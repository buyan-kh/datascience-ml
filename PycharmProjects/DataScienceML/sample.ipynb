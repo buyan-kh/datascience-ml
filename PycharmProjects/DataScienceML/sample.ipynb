{
 "cells": [
  {
   "metadata": {},
   "cell_type": "markdown",
   "source": [
    "# This is a sample Jupyter Notebook\n",
    "\n",
    "Below is an example of a code cell. \n",
    "Put your cursor into the cell and press Shift+Enter to execute it and select the next one, or click !here goes the icon of the corresponding button in the gutter! button.\n",
    "To debug a cell, press Alt+Shift+Enter, or click !here goes the icon of the corresponding button in the gutter! button.\n",
    "\n",
    "Press Double Shift to search everywhere for classes, files, tool windows, actions, and settings.\n",
    "\n",
    "To learn more about Jupyter Notebooks in PyCharm, see [help](https://www.jetbrains.com/help/pycharm/jupyter-notebook-support.html).\n",
    "For an overview of PyCharm, go to Help -> Learn IDE features or refer to [our documentation](https://www.jetbrains.com/help/pycharm/getting-started.html)."
   ],
   "id": "8a77807f92f26ee"
  },
  {
   "metadata": {
    "ExecuteTime": {
     "end_time": "2024-11-05T06:11:19.096445Z",
     "start_time": "2024-11-05T06:11:19.091087Z"
    }
   },
   "cell_type": "code",
   "source": "import numpy as np",
   "id": "fbc121e30a2defb3",
   "outputs": [],
   "execution_count": 24
  },
  {
   "metadata": {
    "ExecuteTime": {
     "end_time": "2024-11-05T06:12:06.619631Z",
     "start_time": "2024-11-05T06:12:06.613200Z"
    }
   },
   "cell_type": "code",
   "source": [
    "mylist = [1, 2, 3]\n",
    "np.array(mylist)"
   ],
   "id": "75fb4bf5731a6882",
   "outputs": [
    {
     "data": {
      "text/plain": [
       "array([1, 2, 3])"
      ]
     },
     "execution_count": 26,
     "metadata": {},
     "output_type": "execute_result"
    }
   ],
   "execution_count": 26
  },
  {
   "metadata": {
    "ExecuteTime": {
     "end_time": "2024-11-05T06:27:27.101136Z",
     "start_time": "2024-11-05T06:27:27.097336Z"
    }
   },
   "cell_type": "code",
   "source": [
    "my_matrix = [[1, 2, 3], [4, 5, 6], [7, 8, 9]]\n",
    "my_matrix"
   ],
   "id": "2c533bb95dc81546",
   "outputs": [
    {
     "data": {
      "text/plain": [
       "[[1, 2, 3], [4, 5, 6], [7, 8, 9]]"
      ]
     },
     "execution_count": 29,
     "metadata": {},
     "output_type": "execute_result"
    }
   ],
   "execution_count": 29
  },
  {
   "metadata": {
    "ExecuteTime": {
     "end_time": "2024-11-05T06:27:35.305619Z",
     "start_time": "2024-11-05T06:27:35.299535Z"
    }
   },
   "cell_type": "code",
   "source": "np.array(my_matrix)",
   "id": "de4c52b89182567",
   "outputs": [
    {
     "data": {
      "text/plain": [
       "array([[1, 2, 3],\n",
       "       [4, 5, 6],\n",
       "       [7, 8, 9]])"
      ]
     },
     "execution_count": 30,
     "metadata": {},
     "output_type": "execute_result"
    }
   ],
   "execution_count": 30
  },
  {
   "metadata": {
    "ExecuteTime": {
     "end_time": "2024-11-05T06:27:52.750332Z",
     "start_time": "2024-11-05T06:27:52.746246Z"
    }
   },
   "cell_type": "code",
   "source": "np.arange(0, 10)",
   "id": "b99f306eaa9a70ad",
   "outputs": [
    {
     "data": {
      "text/plain": [
       "array([0, 1, 2, 3, 4, 5, 6, 7, 8, 9])"
      ]
     },
     "execution_count": 33,
     "metadata": {},
     "output_type": "execute_result"
    }
   ],
   "execution_count": 33
  },
  {
   "metadata": {
    "ExecuteTime": {
     "end_time": "2024-11-05T06:28:48.081303Z",
     "start_time": "2024-11-05T06:28:48.076573Z"
    }
   },
   "cell_type": "code",
   "source": "np.zeros(5)",
   "id": "f8634bd001c7faf1",
   "outputs": [
    {
     "data": {
      "text/plain": [
       "array([0., 0., 0., 0., 0.])"
      ]
     },
     "execution_count": 34,
     "metadata": {},
     "output_type": "execute_result"
    }
   ],
   "execution_count": 34
  },
  {
   "metadata": {
    "ExecuteTime": {
     "end_time": "2024-11-05T06:29:39.153682Z",
     "start_time": "2024-11-05T06:29:39.149085Z"
    }
   },
   "cell_type": "code",
   "source": "len(np.linspace(0, 10, 21))",
   "id": "aec570395c19e747",
   "outputs": [
    {
     "data": {
      "text/plain": [
       "21"
      ]
     },
     "execution_count": 42,
     "metadata": {},
     "output_type": "execute_result"
    }
   ],
   "execution_count": 42
  },
  {
   "metadata": {
    "ExecuteTime": {
     "end_time": "2024-11-05T06:29:43.590520Z",
     "start_time": "2024-11-05T06:29:43.586709Z"
    }
   },
   "cell_type": "code",
   "source": "np.eye(5)",
   "id": "f1ae2b551d484287",
   "outputs": [
    {
     "data": {
      "text/plain": [
       "array([[1., 0., 0., 0., 0.],\n",
       "       [0., 1., 0., 0., 0.],\n",
       "       [0., 0., 1., 0., 0.],\n",
       "       [0., 0., 0., 1., 0.],\n",
       "       [0., 0., 0., 0., 1.]])"
      ]
     },
     "execution_count": 43,
     "metadata": {},
     "output_type": "execute_result"
    }
   ],
   "execution_count": 43
  },
  {
   "metadata": {
    "ExecuteTime": {
     "end_time": "2024-11-05T06:30:13.177401Z",
     "start_time": "2024-11-05T06:30:13.172895Z"
    }
   },
   "cell_type": "code",
   "source": "np.random.rand(5, 5)",
   "id": "8cbca7dd95f22430",
   "outputs": [
    {
     "data": {
      "text/plain": [
       "array([[0.70834952, 0.1892956 , 0.10626243, 0.60848403, 0.92231063],\n",
       "       [0.00176055, 0.61915475, 0.84934171, 0.39786708, 0.71429048],\n",
       "       [0.29642082, 0.64747686, 0.44866117, 0.29409005, 0.17968819],\n",
       "       [0.23515491, 0.57083616, 0.24462432, 0.41447347, 0.94897781],\n",
       "       [0.88345414, 0.21308714, 0.67419633, 0.24022406, 0.4623088 ]])"
      ]
     },
     "execution_count": 44,
     "metadata": {},
     "output_type": "execute_result"
    }
   ],
   "execution_count": 44
  },
  {
   "metadata": {
    "ExecuteTime": {
     "end_time": "2024-11-05T06:30:46.576476Z",
     "start_time": "2024-11-05T06:30:46.571980Z"
    }
   },
   "cell_type": "code",
   "source": "np.random.randn(5, 5)",
   "id": "40d863077b635550",
   "outputs": [
    {
     "data": {
      "text/plain": [
       "array([[ 0.25141286, -0.77265793,  1.20763987, -1.24135922,  0.40109914],\n",
       "       [ 0.68501882,  0.24015832, -0.10878557, -0.93351846,  0.37319337],\n",
       "       [-2.02584094,  1.08706611,  1.36678161, -0.6927164 , -0.92986031],\n",
       "       [ 0.15694337, -0.02739436,  0.08070192, -0.15349553, -0.72516423],\n",
       "       [-2.05350408,  0.2415781 ,  1.03849379, -1.64111291,  1.13231704]])"
      ]
     },
     "execution_count": 45,
     "metadata": {},
     "output_type": "execute_result"
    }
   ],
   "execution_count": 45
  },
  {
   "metadata": {
    "ExecuteTime": {
     "end_time": "2024-11-05T06:32:10.101496Z",
     "start_time": "2024-11-05T06:32:10.095477Z"
    }
   },
   "cell_type": "code",
   "source": [
    "np.random.seed(42)\n",
    "np.random.randint(5, 100, (5, 5))"
   ],
   "id": "2c8d64706f6075e9",
   "outputs": [
    {
     "data": {
      "text/plain": [
       "array([[56, 97, 19, 76, 65],\n",
       "       [25, 87, 91, 79, 79],\n",
       "       [92, 28,  7, 26, 57],\n",
       "       [ 6, 92, 34, 42,  6],\n",
       "       [68, 64, 25, 37, 80]])"
      ]
     },
     "execution_count": 53,
     "metadata": {},
     "output_type": "execute_result"
    }
   ],
   "execution_count": 53
  },
  {
   "metadata": {
    "ExecuteTime": {
     "end_time": "2024-11-05T06:32:23.112970Z",
     "start_time": "2024-11-05T06:32:23.109148Z"
    }
   },
   "cell_type": "code",
   "source": [
    "np.random.seed(42)\n",
    "np.random.randint(5, 100, (5, 5))"
   ],
   "id": "41923021fe750167",
   "outputs": [
    {
     "data": {
      "text/plain": [
       "array([[56, 97, 19, 76, 65],\n",
       "       [25, 87, 91, 79, 79],\n",
       "       [92, 28,  7, 26, 57],\n",
       "       [ 6, 92, 34, 42,  6],\n",
       "       [68, 64, 25, 37, 80]])"
      ]
     },
     "execution_count": 54,
     "metadata": {},
     "output_type": "execute_result"
    }
   ],
   "execution_count": 54
  },
  {
   "metadata": {
    "ExecuteTime": {
     "end_time": "2024-11-05T06:34:04.340384Z",
     "start_time": "2024-11-05T06:34:04.337068Z"
    }
   },
   "cell_type": "code",
   "source": "np.random.rand(4)",
   "id": "7c8198bcdc552480",
   "outputs": [
    {
     "data": {
      "text/plain": [
       "array([0.61165316, 0.00706631, 0.02306243, 0.52477466])"
      ]
     },
     "execution_count": 55,
     "metadata": {},
     "output_type": "execute_result"
    }
   ],
   "execution_count": 55
  },
  {
   "metadata": {
    "ExecuteTime": {
     "end_time": "2024-11-05T06:41:56.516558Z",
     "start_time": "2024-11-05T06:41:56.511988Z"
    }
   },
   "cell_type": "code",
   "source": "arr = np.arange(0, 25)",
   "id": "7b7bca448a32c614",
   "outputs": [],
   "execution_count": 57
  },
  {
   "metadata": {
    "ExecuteTime": {
     "end_time": "2024-11-05T06:42:14.651616Z",
     "start_time": "2024-11-05T06:42:14.646688Z"
    }
   },
   "cell_type": "code",
   "source": "arr.reshape(5, 5)",
   "id": "9f2e046c8fdfec4f",
   "outputs": [
    {
     "data": {
      "text/plain": [
       "array([[ 0,  1,  2,  3,  4],\n",
       "       [ 5,  6,  7,  8,  9],\n",
       "       [10, 11, 12, 13, 14],\n",
       "       [15, 16, 17, 18, 19],\n",
       "       [20, 21, 22, 23, 24]])"
      ]
     },
     "execution_count": 60,
     "metadata": {},
     "output_type": "execute_result"
    }
   ],
   "execution_count": 60
  },
  {
   "metadata": {
    "ExecuteTime": {
     "end_time": "2024-11-05T06:42:32.396402Z",
     "start_time": "2024-11-05T06:42:32.394152Z"
    }
   },
   "cell_type": "code",
   "source": "ranarr = np.random.randint(0, 101, 10)",
   "id": "a96e552d52a91823",
   "outputs": [],
   "execution_count": 61
  },
  {
   "metadata": {
    "ExecuteTime": {
     "end_time": "2024-11-05T06:42:38.454353Z",
     "start_time": "2024-11-05T06:42:38.451637Z"
    }
   },
   "cell_type": "code",
   "source": "ranarr",
   "id": "2fd6367388855774",
   "outputs": [
    {
     "data": {
      "text/plain": [
       "array([41, 91, 59, 79, 14, 61, 61, 46, 61, 50])"
      ]
     },
     "execution_count": 62,
     "metadata": {},
     "output_type": "execute_result"
    }
   ],
   "execution_count": 62
  },
  {
   "metadata": {
    "ExecuteTime": {
     "end_time": "2024-11-05T06:42:57.788366Z",
     "start_time": "2024-11-05T06:42:57.785590Z"
    }
   },
   "cell_type": "code",
   "source": "ranarr.max()",
   "id": "9ee5c84bce518eac",
   "outputs": [
    {
     "data": {
      "text/plain": [
       "91"
      ]
     },
     "execution_count": 64,
     "metadata": {},
     "output_type": "execute_result"
    }
   ],
   "execution_count": 64
  },
  {
   "metadata": {
    "ExecuteTime": {
     "end_time": "2024-11-05T06:42:59.624268Z",
     "start_time": "2024-11-05T06:42:59.621933Z"
    }
   },
   "cell_type": "code",
   "source": "ranarr.min()\n",
   "id": "6f33c00d976649ae",
   "outputs": [
    {
     "data": {
      "text/plain": [
       "14"
      ]
     },
     "execution_count": 65,
     "metadata": {},
     "output_type": "execute_result"
    }
   ],
   "execution_count": 65
  },
  {
   "metadata": {
    "ExecuteTime": {
     "end_time": "2024-11-05T06:58:17.858012Z",
     "start_time": "2024-11-05T06:58:17.851467Z"
    }
   },
   "cell_type": "code",
   "source": "ranarr.argmax()",
   "id": "a8fc8d275a3c28b",
   "outputs": [
    {
     "data": {
      "text/plain": [
       "1"
      ]
     },
     "execution_count": 66,
     "metadata": {},
     "output_type": "execute_result"
    }
   ],
   "execution_count": 66
  },
  {
   "metadata": {
    "ExecuteTime": {
     "end_time": "2024-11-05T16:34:07.072172Z",
     "start_time": "2024-11-05T16:34:07.055926Z"
    }
   },
   "cell_type": "code",
   "source": "myarray = np.linspace(0, 10, 101)",
   "id": "7465b36e8b83a3c5",
   "outputs": [],
   "execution_count": 67
  },
  {
   "metadata": {
    "ExecuteTime": {
     "end_time": "2024-11-05T16:55:21.393760Z",
     "start_time": "2024-11-05T16:55:21.391441Z"
    }
   },
   "cell_type": "code",
   "source": "dice_rolls = np.array([3, 1, 5, 2, 5, 1, 1, 5, 1, 4, 2, 1, 4, 5, 3, 4, 5, 2, 4, 2, 6, 6, 3, 6, 2, 3, 5, 6, 5])\n",
   "id": "eea0a40325a1c5e8",
   "outputs": [],
   "execution_count": 70
  },
  {
   "metadata": {
    "ExecuteTime": {
     "end_time": "2024-11-05T16:55:41.422386Z",
     "start_time": "2024-11-05T16:55:41.419252Z"
    }
   },
   "cell_type": "code",
   "source": "len(dice_rolls[dice_rolls > 2])",
   "id": "44780fedb00c89f1",
   "outputs": [
    {
     "data": {
      "text/plain": [
       "19"
      ]
     },
     "execution_count": 72,
     "metadata": {},
     "output_type": "execute_result"
    }
   ],
   "execution_count": 72
  },
  {
   "metadata": {},
   "cell_type": "code",
   "outputs": [],
   "execution_count": null,
   "source": "",
   "id": "984e1ddef54ddf84"
  }
 ],
 "metadata": {
  "kernelspec": {
   "display_name": "Python 3",
   "language": "python",
   "name": "python3"
  },
  "language_info": {
   "codemirror_mode": {
    "name": "ipython",
    "version": 2
   },
   "file_extension": ".py",
   "mimetype": "text/x-python",
   "name": "python",
   "nbconvert_exporter": "python",
   "pygments_lexer": "ipython2",
   "version": "2.7.6"
  }
 },
 "nbformat": 4,
 "nbformat_minor": 5
}
